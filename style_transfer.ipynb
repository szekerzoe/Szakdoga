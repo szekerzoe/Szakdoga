{
  "nbformat": 4,
  "nbformat_minor": 0,
  "metadata": {
    "colab": {
      "name": "style transfer.ipynb",
      "provenance": [],
      "collapsed_sections": []
    },
    "kernelspec": {
      "name": "python3",
      "display_name": "Python 3"
    },
    "accelerator": "GPU",
    "widgets": {
      "application/vnd.jupyter.widget-state+json": {
        "3d8d2994bab34e19a652ad4f9f42aa05": {
          "model_module": "@jupyter-widgets/controls",
          "model_name": "HBoxModel",
          "model_module_version": "1.5.0",
          "state": {
            "_view_name": "HBoxView",
            "_dom_classes": [],
            "_model_name": "HBoxModel",
            "_view_module": "@jupyter-widgets/controls",
            "_model_module_version": "1.5.0",
            "_view_count": null,
            "_view_module_version": "1.5.0",
            "box_style": "",
            "layout": "IPY_MODEL_053508a4b03b4900b217a3cfbecf4c51",
            "_model_module": "@jupyter-widgets/controls",
            "children": [
              "IPY_MODEL_46587d0d077042d880178b66925b74cf",
              "IPY_MODEL_39ed7486613e4499a7c111141f6387b7",
              "IPY_MODEL_4ef99063e5f94442aba45d2a6bfecff5"
            ]
          }
        },
        "053508a4b03b4900b217a3cfbecf4c51": {
          "model_module": "@jupyter-widgets/base",
          "model_name": "LayoutModel",
          "model_module_version": "1.2.0",
          "state": {
            "_view_name": "LayoutView",
            "grid_template_rows": null,
            "right": null,
            "justify_content": null,
            "_view_module": "@jupyter-widgets/base",
            "overflow": null,
            "_model_module_version": "1.2.0",
            "_view_count": null,
            "flex_flow": null,
            "width": null,
            "min_width": null,
            "border": null,
            "align_items": null,
            "bottom": null,
            "_model_module": "@jupyter-widgets/base",
            "top": null,
            "grid_column": null,
            "overflow_y": null,
            "overflow_x": null,
            "grid_auto_flow": null,
            "grid_area": null,
            "grid_template_columns": null,
            "flex": null,
            "_model_name": "LayoutModel",
            "justify_items": null,
            "grid_row": null,
            "max_height": null,
            "align_content": null,
            "visibility": null,
            "align_self": null,
            "height": null,
            "min_height": null,
            "padding": null,
            "grid_auto_rows": null,
            "grid_gap": null,
            "max_width": null,
            "order": null,
            "_view_module_version": "1.2.0",
            "grid_template_areas": null,
            "object_position": null,
            "object_fit": null,
            "grid_auto_columns": null,
            "margin": null,
            "display": null,
            "left": null
          }
        },
        "46587d0d077042d880178b66925b74cf": {
          "model_module": "@jupyter-widgets/controls",
          "model_name": "HTMLModel",
          "model_module_version": "1.5.0",
          "state": {
            "_view_name": "HTMLView",
            "style": "IPY_MODEL_e8287190d60d4951b648791379d232c1",
            "_dom_classes": [],
            "description": "",
            "_model_name": "HTMLModel",
            "placeholder": "​",
            "_view_module": "@jupyter-widgets/controls",
            "_model_module_version": "1.5.0",
            "value": "100%",
            "_view_count": null,
            "_view_module_version": "1.5.0",
            "description_tooltip": null,
            "_model_module": "@jupyter-widgets/controls",
            "layout": "IPY_MODEL_57e8bbcbe7204c05852ddde397b84e70"
          }
        },
        "39ed7486613e4499a7c111141f6387b7": {
          "model_module": "@jupyter-widgets/controls",
          "model_name": "FloatProgressModel",
          "model_module_version": "1.5.0",
          "state": {
            "_view_name": "ProgressView",
            "style": "IPY_MODEL_cbee838364f9473386f6cfa050e9dc50",
            "_dom_classes": [],
            "description": "",
            "_model_name": "FloatProgressModel",
            "bar_style": "success",
            "max": 574673361,
            "_view_module": "@jupyter-widgets/controls",
            "_model_module_version": "1.5.0",
            "value": 574673361,
            "_view_count": null,
            "_view_module_version": "1.5.0",
            "orientation": "horizontal",
            "min": 0,
            "description_tooltip": null,
            "_model_module": "@jupyter-widgets/controls",
            "layout": "IPY_MODEL_a856fdc3791646ae83fc17d8370d5675"
          }
        },
        "4ef99063e5f94442aba45d2a6bfecff5": {
          "model_module": "@jupyter-widgets/controls",
          "model_name": "HTMLModel",
          "model_module_version": "1.5.0",
          "state": {
            "_view_name": "HTMLView",
            "style": "IPY_MODEL_5e429b6472104a46aa8debd4a5aecc06",
            "_dom_classes": [],
            "description": "",
            "_model_name": "HTMLModel",
            "placeholder": "​",
            "_view_module": "@jupyter-widgets/controls",
            "_model_module_version": "1.5.0",
            "value": " 548M/548M [00:05&lt;00:00, 106MB/s]",
            "_view_count": null,
            "_view_module_version": "1.5.0",
            "description_tooltip": null,
            "_model_module": "@jupyter-widgets/controls",
            "layout": "IPY_MODEL_7338ddf30fd942ddae47b7ca5f15a988"
          }
        },
        "e8287190d60d4951b648791379d232c1": {
          "model_module": "@jupyter-widgets/controls",
          "model_name": "DescriptionStyleModel",
          "model_module_version": "1.5.0",
          "state": {
            "_view_name": "StyleView",
            "_model_name": "DescriptionStyleModel",
            "description_width": "",
            "_view_module": "@jupyter-widgets/base",
            "_model_module_version": "1.5.0",
            "_view_count": null,
            "_view_module_version": "1.2.0",
            "_model_module": "@jupyter-widgets/controls"
          }
        },
        "57e8bbcbe7204c05852ddde397b84e70": {
          "model_module": "@jupyter-widgets/base",
          "model_name": "LayoutModel",
          "model_module_version": "1.2.0",
          "state": {
            "_view_name": "LayoutView",
            "grid_template_rows": null,
            "right": null,
            "justify_content": null,
            "_view_module": "@jupyter-widgets/base",
            "overflow": null,
            "_model_module_version": "1.2.0",
            "_view_count": null,
            "flex_flow": null,
            "width": null,
            "min_width": null,
            "border": null,
            "align_items": null,
            "bottom": null,
            "_model_module": "@jupyter-widgets/base",
            "top": null,
            "grid_column": null,
            "overflow_y": null,
            "overflow_x": null,
            "grid_auto_flow": null,
            "grid_area": null,
            "grid_template_columns": null,
            "flex": null,
            "_model_name": "LayoutModel",
            "justify_items": null,
            "grid_row": null,
            "max_height": null,
            "align_content": null,
            "visibility": null,
            "align_self": null,
            "height": null,
            "min_height": null,
            "padding": null,
            "grid_auto_rows": null,
            "grid_gap": null,
            "max_width": null,
            "order": null,
            "_view_module_version": "1.2.0",
            "grid_template_areas": null,
            "object_position": null,
            "object_fit": null,
            "grid_auto_columns": null,
            "margin": null,
            "display": null,
            "left": null
          }
        },
        "cbee838364f9473386f6cfa050e9dc50": {
          "model_module": "@jupyter-widgets/controls",
          "model_name": "ProgressStyleModel",
          "model_module_version": "1.5.0",
          "state": {
            "_view_name": "StyleView",
            "_model_name": "ProgressStyleModel",
            "description_width": "",
            "_view_module": "@jupyter-widgets/base",
            "_model_module_version": "1.5.0",
            "_view_count": null,
            "_view_module_version": "1.2.0",
            "bar_color": null,
            "_model_module": "@jupyter-widgets/controls"
          }
        },
        "a856fdc3791646ae83fc17d8370d5675": {
          "model_module": "@jupyter-widgets/base",
          "model_name": "LayoutModel",
          "model_module_version": "1.2.0",
          "state": {
            "_view_name": "LayoutView",
            "grid_template_rows": null,
            "right": null,
            "justify_content": null,
            "_view_module": "@jupyter-widgets/base",
            "overflow": null,
            "_model_module_version": "1.2.0",
            "_view_count": null,
            "flex_flow": null,
            "width": null,
            "min_width": null,
            "border": null,
            "align_items": null,
            "bottom": null,
            "_model_module": "@jupyter-widgets/base",
            "top": null,
            "grid_column": null,
            "overflow_y": null,
            "overflow_x": null,
            "grid_auto_flow": null,
            "grid_area": null,
            "grid_template_columns": null,
            "flex": null,
            "_model_name": "LayoutModel",
            "justify_items": null,
            "grid_row": null,
            "max_height": null,
            "align_content": null,
            "visibility": null,
            "align_self": null,
            "height": null,
            "min_height": null,
            "padding": null,
            "grid_auto_rows": null,
            "grid_gap": null,
            "max_width": null,
            "order": null,
            "_view_module_version": "1.2.0",
            "grid_template_areas": null,
            "object_position": null,
            "object_fit": null,
            "grid_auto_columns": null,
            "margin": null,
            "display": null,
            "left": null
          }
        },
        "5e429b6472104a46aa8debd4a5aecc06": {
          "model_module": "@jupyter-widgets/controls",
          "model_name": "DescriptionStyleModel",
          "model_module_version": "1.5.0",
          "state": {
            "_view_name": "StyleView",
            "_model_name": "DescriptionStyleModel",
            "description_width": "",
            "_view_module": "@jupyter-widgets/base",
            "_model_module_version": "1.5.0",
            "_view_count": null,
            "_view_module_version": "1.2.0",
            "_model_module": "@jupyter-widgets/controls"
          }
        },
        "7338ddf30fd942ddae47b7ca5f15a988": {
          "model_module": "@jupyter-widgets/base",
          "model_name": "LayoutModel",
          "model_module_version": "1.2.0",
          "state": {
            "_view_name": "LayoutView",
            "grid_template_rows": null,
            "right": null,
            "justify_content": null,
            "_view_module": "@jupyter-widgets/base",
            "overflow": null,
            "_model_module_version": "1.2.0",
            "_view_count": null,
            "flex_flow": null,
            "width": null,
            "min_width": null,
            "border": null,
            "align_items": null,
            "bottom": null,
            "_model_module": "@jupyter-widgets/base",
            "top": null,
            "grid_column": null,
            "overflow_y": null,
            "overflow_x": null,
            "grid_auto_flow": null,
            "grid_area": null,
            "grid_template_columns": null,
            "flex": null,
            "_model_name": "LayoutModel",
            "justify_items": null,
            "grid_row": null,
            "max_height": null,
            "align_content": null,
            "visibility": null,
            "align_self": null,
            "height": null,
            "min_height": null,
            "padding": null,
            "grid_auto_rows": null,
            "grid_gap": null,
            "max_width": null,
            "order": null,
            "_view_module_version": "1.2.0",
            "grid_template_areas": null,
            "object_position": null,
            "object_fit": null,
            "grid_auto_columns": null,
            "margin": null,
            "display": null,
            "left": null
          }
        }
      }
    }
  },
  "cells": [
    {
      "cell_type": "markdown",
      "metadata": {
        "id": "pwDXLiaMb1gi"
      },
      "source": [
        "Import necessary modules"
      ]
    },
    {
      "cell_type": "code",
      "metadata": {
        "id": "RtmKZWV1OlOq",
        "colab": {
          "base_uri": "https://localhost:8080/"
        },
        "outputId": "1f5066b5-7cb8-4042-b0b0-97d05e89fa30"
      },
      "source": [
        "import torch\n",
        "import torch.nn as nn\n",
        "import torch.nn.functional as F\n",
        "import torch.optim as optim\n",
        "\n",
        "from PIL import Image, ImageOps\n",
        "import matplotlib.pyplot as plt\n",
        "\n",
        "import torchvision.transforms as transforms\n",
        "import torchvision.models as models\n",
        "\n",
        "import copy\n",
        "import cv2\n",
        "import numpy as np\n",
        "\n",
        "from google.colab import drive\n",
        "import os\n",
        "drive.mount('/content/drive')\n",
        "data_dir = '/content/drive/Shared drives/ITK Ultrasound Consultation/Zoé_szakdolgozat/data/other_imaging_modalities/images'\n",
        "#output_dir = '/content/drive/Shared drives/ITK Ultrasound Consultation/Zoé_szakdolgozat/data/other_imaging_modalities/style_transfer_700_0.5M_images'\n",
        "output_dir = '/content/drive/Shared drives/ITK Ultrasound Consultation/Zoé_szakdolgozat/co_1_NEVUS_experiments/images'\n",
        "if not os.path.exists(output_dir):\n",
        "  os.mkdir(output_dir)"
      ],
      "execution_count": null,
      "outputs": [
        {
          "output_type": "stream",
          "name": "stdout",
          "text": [
            "Mounted at /content/drive\n"
          ]
        }
      ]
    },
    {
      "cell_type": "code",
      "metadata": {
        "id": "qhG3mhohOtDU"
      },
      "source": [
        "device = torch.device(\"cuda\" if torch.cuda.is_available() else \"cpu\")\n",
        "\n",
        "# desired size of the output image\n",
        "imsize = 512 if torch.cuda.is_available() else 128  # use small size if no gpu"
      ],
      "execution_count": null,
      "outputs": []
    },
    {
      "cell_type": "code",
      "metadata": {
        "id": "YrAEI2yWOw4g"
      },
      "source": [
        "loader = transforms.Compose([\n",
        "    transforms.Resize(imsize),  # scale imported image\n",
        "    transforms.ToTensor()])  # transform it into a torch tensor"
      ],
      "execution_count": null,
      "outputs": []
    },
    {
      "cell_type": "code",
      "metadata": {
        "id": "26yQHyCZV0EX"
      },
      "source": [
        "def content_image_loader(image_name):\n",
        "    image = Image.open(image_name)\n",
        "    image = ImageOps.grayscale(image)\n",
        "    original_shape = (image.height, image.width)\n",
        "    image = image.resize((444,444))  #I resize the input image to 444x444\n",
        "    # fake batch dimension required to fit network's input dimensions\n",
        "    #print(image.size)\n",
        "    image = loader(image).unsqueeze(0)\n",
        "    return image.to(device, torch.float), original_shape"
      ],
      "execution_count": null,
      "outputs": []
    },
    {
      "cell_type": "code",
      "metadata": {
        "id": "rSfTFstJO1L_"
      },
      "source": [
        "def style_image_loader(image_name):\n",
        "  #biztos lehet szebben is, de én csak így tudtam megcsinálni\n",
        "    img = cv2.imread(image_name,0) #grayscale\n",
        "    original_shape = img.shape\n",
        "    img = cv2.resize(img,(444,444))\n",
        "    img = (img-np.amin(img))/(np.amax(img)-np.amin(img)) #normalization\n",
        "    img2 = Image.fromarray(img)\n",
        "    img2 = loader(img2).unsqueeze(0)\n",
        "    return img2.to(device, torch.float), original_shape"
      ],
      "execution_count": null,
      "outputs": []
    },
    {
      "cell_type": "code",
      "metadata": {
        "id": "MlHxui3qPI5F",
        "colab": {
          "base_uri": "https://localhost:8080/"
        },
        "outputId": "91ec20d4-127c-412f-a793-96f96924bdbb"
      },
      "source": [
        "style_img, cucc = style_image_loader(\"/content/drive/Shared drives/ITK Ultrasound Consultation/Zoé_szakdolgozat/hitachi_style_transfer_sample/130.png\") #under construction\n",
        "print(cucc)\n",
        "#content_img = image_loader(\"RefUS_020_2b.jpg\")\n",
        "\n",
        "#assert style_img.size() == content_img.size(), \\\n",
        "#    \"we need to import style and content images of the same size\""
      ],
      "execution_count": null,
      "outputs": [
        {
          "output_type": "stream",
          "name": "stdout",
          "text": [
            "(417, 986)\n"
          ]
        }
      ]
    },
    {
      "cell_type": "code",
      "metadata": {
        "id": "RAyevXOUPXcx"
      },
      "source": [
        "unloader = transforms.ToPILImage()  # reconvert into PIL image"
      ],
      "execution_count": null,
      "outputs": []
    },
    {
      "cell_type": "code",
      "metadata": {
        "id": "IEC9qn3wPbRL"
      },
      "source": [
        "def imshow(tensor, title=None):\n",
        "    image = tensor.cpu().clone()  # we clone the tensor to not do changes on it\n",
        "    image = image.squeeze(0)      # remove the fake batch dimension\n",
        "    image = unloader(image)\n",
        "    plt.imshow(image)\n",
        "    if title is not None:\n",
        "        plt.title(title)\n",
        "    plt.pause(0.001) # pause a bit so that plots are updated"
      ],
      "execution_count": null,
      "outputs": []
    },
    {
      "cell_type": "code",
      "metadata": {
        "colab": {
          "base_uri": "https://localhost:8080/",
          "height": 281
        },
        "id": "F4Q8du6mOmyT",
        "outputId": "f9f1d7fe-cf9a-49e6-caad-409fd6034c72"
      },
      "source": [
        "plt.ion()\n",
        "plt.figure()\n",
        "imshow(style_img, title='Style Image')\n",
        "#plt.savefig(\"Style.png\")\n",
        "#plt.figure()\n",
        "#imshow(content_img, title='Content Image')\n",
        "#plt.savefig(\"Content.png\")"
      ],
      "execution_count": null,
      "outputs": [
        {
          "output_type": "display_data",
          "data": {
            "image/png": "[encoded data removed]",
            "text/plain": [
              "<Figure size 432x288 with 1 Axes>"
            ]
          },
          "metadata": {
            "needs_background": "light"
          }
        }
      ]
    },
    {
      "cell_type": "markdown",
      "metadata": {
        "id": "I7qEaqlsct_S"
      },
      "source": [
        "Define Content and Style Losses for the network"
      ]
    },
    {
      "cell_type": "code",
      "metadata": {
        "id": "t19npUmqOm4g"
      },
      "source": [
        "class ContentLoss(nn.Module):\n",
        "\n",
        "    def __init__(self, target):\n",
        "        super(ContentLoss, self).__init__()\n",
        "        # we 'detach' the target content from the tree used\n",
        "        # to dynamically compute the gradient: this is a stated value,\n",
        "        # not a variable. Otherwise the forward method of the criterion\n",
        "        # will throw an error.\n",
        "        self.target = target.detach()\n",
        "\n",
        "    def forward(self, input):\n",
        "        self.loss = F.mse_loss(input, self.target)\n",
        "        return input\n",
        "        \n",
        "def gram_matrix(input):\n",
        "    a, b, c, d = input.size()\n",
        "    # a=batch size(=1)\n",
        "    # b=number of feature maps\n",
        "    # (c,d)=dimensions of a f. map (N=c*d)\n",
        "\n",
        "    features = input.view(a * b, c * d)  # resise F_XL into \\hat F_XL\n",
        "\n",
        "    G = torch.mm(features, features.t())  # compute the gram product\n",
        "\n",
        "    # we 'normalize' the values of the gram matrix\n",
        "    # by dividing by the number of element in each feature maps.\n",
        "    return G.div(a * b * c * d)\n",
        "    \n",
        "    \n",
        "class StyleLoss(nn.Module):\n",
        "\n",
        "    def __init__(self, target_feature):\n",
        "        super(StyleLoss, self).__init__()\n",
        "        self.target = gram_matrix(target_feature).detach()\n",
        "\n",
        "    def forward(self, input):\n",
        "        G = gram_matrix(input)\n",
        "        #mean squared error\n",
        "        #a target és az input gram mátrixa mennyire tér el\n",
        "        #a cikkek szerint nem veszi figyelembe a térbeli elrendezést \n",
        "        self.loss = F.mse_loss(G, self.target)\n",
        "        return input\n",
        " "
      ],
      "execution_count": null,
      "outputs": []
    },
    {
      "cell_type": "markdown",
      "metadata": {
        "id": "P0CazIL8cy1f"
      },
      "source": [
        "Generate network - downloads weights on first run"
      ]
    },
    {
      "cell_type": "code",
      "metadata": {
        "id": "gpJgkgdLQO3d",
        "colab": {
          "base_uri": "https://localhost:8080/",
          "height": 88,
          "referenced_widgets": [
            "3d8d2994bab34e19a652ad4f9f42aa05",
            "053508a4b03b4900b217a3cfbecf4c51",
            "46587d0d077042d880178b66925b74cf",
            "39ed7486613e4499a7c111141f6387b7",
            "4ef99063e5f94442aba45d2a6bfecff5",
            "e8287190d60d4951b648791379d232c1",
            "57e8bbcbe7204c05852ddde397b84e70",
            "cbee838364f9473386f6cfa050e9dc50",
            "a856fdc3791646ae83fc17d8370d5675",
            "5e429b6472104a46aa8debd4a5aecc06",
            "7338ddf30fd942ddae47b7ca5f15a988"
          ]
        },
        "outputId": "bc5a870f-5b0a-4fba-bf7b-389679454167"
      },
      "source": [
        "# vgg19 eval módban\n",
        "cnn = models.vgg19(pretrained=True).features.to(device).eval()\n",
        "cnn_normalization_mean = torch.tensor([0.485, 0.456, 0.406]).to(device)\n",
        "cnn_normalization_std = torch.tensor([0.229, 0.224, 0.225]).to(device)"
      ],
      "execution_count": null,
      "outputs": [
        {
          "output_type": "stream",
          "name": "stderr",
          "text": [
            "Downloading: \"https://download.pytorch.org/models/vgg19-dcbb9e9d.pth\" to /root/.cache/torch/hub/checkpoints/vgg19-dcbb9e9d.pth\n"
          ]
        },
        {
          "output_type": "display_data",
          "data": {
            "application/vnd.jupyter.widget-view+json": {
              "model_id": "3d8d2994bab34e19a652ad4f9f42aa05",
              "version_minor": 0,
              "version_major": 2
            },
            "text/plain": [
              "  0%|          | 0.00/548M [00:00<?, ?B/s]"
            ]
          },
          "metadata": {}
        }
      ]
    },
    {
      "cell_type": "code",
      "metadata": {
        "id": "je8WZcpTQTBb"
      },
      "source": [
        "# create a module to normalize input image so we can easily put it in a\n",
        "# nn.Sequential\n",
        "class Normalization(nn.Module):\n",
        "    def __init__(self, mean, std):\n",
        "        super(Normalization, self).__init__()\n",
        "        # .view the mean and std to make them [C x 1 x 1] so that they can\n",
        "        # directly work with image Tensor of shape [B x C x H x W].\n",
        "        # B is batch size. C is number of channels. H is height and W is width.\n",
        "        self.mean = torch.tensor(mean).view(-1, 1, 1)\n",
        "        self.std = torch.tensor(std).view(-1, 1, 1)\n",
        "\n",
        "    def forward(self, img):\n",
        "        # normalize img\n",
        "        return (img - self.mean) / self.std"
      ],
      "execution_count": null,
      "outputs": []
    },
    {
      "cell_type": "code",
      "metadata": {
        "id": "FQquaKTuQXxZ"
      },
      "source": [
        "content_layers_default = ['conv_4'] \n",
        "style_layers_default = ['conv_1', 'conv_2', 'conv_3', 'conv_4', 'conv_5']\n"
      ],
      "execution_count": null,
      "outputs": []
    },
    {
      "cell_type": "code",
      "metadata": {
        "id": "UU-YqZjDQdro"
      },
      "source": [
        "def get_style_model_and_losses(cnn, normalization_mean, normalization_std,\n",
        "                               style_img, content_img,\n",
        "                               content_layers=content_layers_default,\n",
        "                               style_layers=style_layers_default):\n",
        "    cnn = copy.deepcopy(cnn)\n",
        "\n",
        "    # normalization module\n",
        "    normalization = Normalization(normalization_mean, normalization_std).to(device)\n",
        "\n",
        "    # just in order to have an iterable access to or list of content/syle\n",
        "    # losses\n",
        "    content_losses = []\n",
        "    style_losses = []\n",
        "\n",
        "    # assuming that cnn is a nn.Sequential, so we make a new nn.Sequential\n",
        "    # to put in modules that are supposed to be activated sequentially\n",
        "    model = nn.Sequential(normalization)\n",
        "\n",
        "    i = 0  # increment every time we see a conv\n",
        "    for layer in cnn.children():\n",
        "        if isinstance(layer, nn.Conv2d):\n",
        "            i += 1\n",
        "            name = 'conv_{}'.format(i)\n",
        "        elif isinstance(layer, nn.ReLU):\n",
        "            name = 'relu_{}'.format(i)\n",
        "            # The in-place version doesn't play very nicely with the ContentLoss\n",
        "            # and StyleLoss we insert below. So we replace with out-of-place\n",
        "            # ones here.\n",
        "            layer = nn.ReLU(inplace=False)\n",
        "        elif isinstance(layer, nn.MaxPool2d):\n",
        "            name = 'pool_{}'.format(i)\n",
        "        elif isinstance(layer, nn.BatchNorm2d):\n",
        "            name = 'bn_{}'.format(i)\n",
        "        else:\n",
        "            raise RuntimeError('Unrecognized layer: {}'.format(layer.__class__.__name__))\n",
        "\n",
        "        model.add_module(name, layer)\n",
        "\n",
        "        if name in content_layers:\n",
        "            # add content loss:\n",
        "            target = model(content_img).detach()\n",
        "            content_loss = ContentLoss(target)\n",
        "            model.add_module(\"content_loss_{}\".format(i), content_loss)\n",
        "            content_losses.append(content_loss)\n",
        "\n",
        "        if name in style_layers:\n",
        "            # add style loss:\n",
        "            target_feature = model(style_img).detach()\n",
        "            style_loss = StyleLoss(target_feature)\n",
        "            model.add_module(\"style_loss_{}\".format(i), style_loss)\n",
        "            style_losses.append(style_loss)\n",
        "\n",
        "    # now we trim off the layers after the last content and style losses\n",
        "    for i in range(len(model) - 1, -1, -1):\n",
        "        if isinstance(model[i], ContentLoss) or isinstance(model[i], StyleLoss):\n",
        "            break\n",
        "    \n",
        "    model = model[:(i + 1)]\n",
        "\n",
        "    return model, style_losses, content_losses"
      ],
      "execution_count": null,
      "outputs": []
    },
    {
      "cell_type": "code",
      "metadata": {
        "id": "raPJQkU8QgoQ"
      },
      "source": [
        "def get_input_optimizer(input_img):\n",
        "    # this line to show that input is a parameter that requires a gradient\n",
        "    optimizer = optim.LBFGS([input_img.requires_grad_()])\n",
        "    return optimizer"
      ],
      "execution_count": null,
      "outputs": []
    },
    {
      "cell_type": "code",
      "metadata": {
        "id": "H5nDVbfFQob3"
      },
      "source": [
        "def run_style_transfer(cnn, normalization_mean, normalization_std,\n",
        "                       content_img, style_img, input_img, num_steps=300,\n",
        "                       style_weight=1000000, content_weight=1):\n",
        "    \"\"\"Run the style transfer.\"\"\"\n",
        "    #print('Building the style transfer model..')\n",
        "    model, style_losses, content_losses = get_style_model_and_losses(cnn,\n",
        "        normalization_mean, normalization_std, style_img, content_img)\n",
        "    optimizer = get_input_optimizer(input_img)\n",
        "\n",
        "    #Kiírom fájlba a model rétegeit\n",
        "    with open(\"model.txt\", 'w') as file_out:\n",
        "      for module in model.children():\n",
        "        file_out.write(str(module) + \"\\n\")\n",
        "    \n",
        "    #print('Optimizing..')\n",
        "    run = [0]\n",
        "    while run[0] <= num_steps:\n",
        "        def closure():\n",
        "            # correct the values of updated input image\n",
        "            input_img.data.clamp_(0, 1)\n",
        "\n",
        "            optimizer.zero_grad()\n",
        "            model(input_img)\n",
        "            style_score = 0\n",
        "            content_score = 0\n",
        "\n",
        "            for sl in style_losses:\n",
        "                style_score += sl.loss\n",
        "            for cl in content_losses:\n",
        "                content_score += cl.loss\n",
        "\n",
        "            style_score *= style_weight\n",
        "            content_score *= content_weight\n",
        "\n",
        "            loss = style_score + content_score\n",
        "            loss.backward()\n",
        "\n",
        "            run[0] += 1\n",
        "            \"\"\"\n",
        "            if run[0] % 50 == 0:\n",
        "                print(\"run {}:\".format(run))\n",
        "                print('Style Loss : {:4f} Content Loss: {:4f}'.format(\n",
        "                    style_score.item(), content_score.item()))\n",
        "                print()\n",
        "            \"\"\"\n",
        "            if run[0] == num_steps:\n",
        "                print('Style Loss : {:4f} Content Loss: {:4f}'.format(\n",
        "                    style_score.item(), content_score.item()))\n",
        "                print()\n",
        "            return style_score + content_score\n",
        "        optimizer.step(closure)\n",
        "\n",
        "    input_img.data.clamp_(0, 1)\n",
        "\n",
        "    return input_img"
      ],
      "execution_count": null,
      "outputs": []
    },
    {
      "cell_type": "code",
      "metadata": {
        "id": "8hWzIB6Bw8-K"
      },
      "source": [
        "def save_img(img, img_shape, path):\n",
        "  #out_img_tensor = torch.transpose(torch.transpose(img.cpu().detach().squeeze(), 0,1), 1,2)\n",
        "  out_img_tensor = img.cpu().detach().squeeze()\n",
        "  out_img_np = np.array(out_img_tensor)*255\n",
        "  out_img_np = out_img_np.astype('uint8')\n",
        "\n",
        "  rgb = cv2.cvtColor(out_img_np, cv2.COLOR_BGR2RGB)\n",
        "  w,h=img_shape\n",
        "  rgb = cv2.resize(rgb, (h,w))\n",
        "  cv2.imwrite(path, rgb)"
      ],
      "execution_count": null,
      "outputs": []
    },
    {
      "cell_type": "code",
      "metadata": {
        "colab": {
          "base_uri": "https://localhost:8080/"
        },
        "id": "5fiqJoJFrvUO",
        "outputId": "59502b63-2c8d-4cd5-d684-03b485d3d88b"
      },
      "source": [
        "for steps in range(100,1050,50):\n",
        "  content_img, original_shape = content_image_loader(os.path.join(data_dir, 'co_1_NEVUS_cropped.png'))\n",
        "  input_img = content_img.clone()\n",
        "  output = run_style_transfer(cnn, cnn_normalization_mean, cnn_normalization_std,\n",
        "                              content_img, style_img, input_img, num_steps=steps, style_weight=500000)\n",
        "  #imshow(output, title='ha_23_MELA')\n",
        "  save_img(output, original_shape, os.path.join(output_dir,str(steps)+'_co_1_NEVUS.png'))"
      ],
      "execution_count": null,
      "outputs": [
        {
          "output_type": "stream",
          "name": "stderr",
          "text": [
            "/usr/local/lib/python3.7/dist-packages/ipykernel_launcher.py:9: UserWarning: To copy construct from a tensor, it is recommended to use sourceTensor.clone().detach() or sourceTensor.clone().detach().requires_grad_(True), rather than torch.tensor(sourceTensor).\n",
            "  if __name__ == '__main__':\n",
            "/usr/local/lib/python3.7/dist-packages/ipykernel_launcher.py:10: UserWarning: To copy construct from a tensor, it is recommended to use sourceTensor.clone().detach() or sourceTensor.clone().detach().requires_grad_(True), rather than torch.tensor(sourceTensor).\n",
            "  # Remove the CWD from sys.path while we load stuff.\n",
            "/usr/local/lib/python3.7/dist-packages/torch/nn/functional.py:718: UserWarning: Named tensors and all their associated APIs are an experimental feature and subject to change. Please do not use them for anything important until they are released as stable. (Triggered internally at  /pytorch/c10/core/TensorImpl.h:1156.)\n",
            "  return torch.max_pool2d(input, kernel_size, stride, padding, dilation, ceil_mode)\n"
          ]
        },
        {
          "output_type": "stream",
          "name": "stdout",
          "text": [
            "Style Loss : 2.368631 Content Loss: 5.680809\n",
            "\n",
            "Style Loss : 1.715490 Content Loss: 5.141418\n",
            "\n",
            "Style Loss : 1.171564 Content Loss: 4.815987\n",
            "\n",
            "Style Loss : 0.904497 Content Loss: 4.692558\n",
            "\n",
            "Style Loss : 0.758786 Content Loss: 4.618811\n",
            "\n",
            "Style Loss : 0.637381 Content Loss: 4.576050\n",
            "\n",
            "Style Loss : 0.511494 Content Loss: 4.546432\n",
            "\n",
            "Style Loss : 0.456396 Content Loss: 4.511897\n",
            "\n",
            "Style Loss : 0.430338 Content Loss: 4.484078\n",
            "\n",
            "Style Loss : 0.402550 Content Loss: 4.458250\n",
            "\n",
            "Style Loss : 0.367270 Content Loss: 4.452299\n",
            "\n",
            "Style Loss : 0.351290 Content Loss: 4.438100\n",
            "\n",
            "Style Loss : 0.338814 Content Loss: 4.420679\n",
            "\n",
            "Style Loss : 0.327215 Content Loss: 4.408143\n",
            "\n",
            "Style Loss : 0.322644 Content Loss: 4.392887\n",
            "\n",
            "Style Loss : 0.320203 Content Loss: 4.389217\n",
            "\n",
            "Style Loss : 0.318958 Content Loss: 4.385597\n",
            "\n",
            "Style Loss : 0.318538 Content Loss: 4.372642\n",
            "\n",
            "Style Loss : 0.316569 Content Loss: 4.371733\n",
            "\n"
          ]
        }
      ]
    },
    {
      "cell_type": "code",
      "metadata": {
        "id": "t4jgapgTw3lo",
        "colab": {
          "base_uri": "https://localhost:8080/"
        },
        "outputId": "9ac7be6d-1d66-454c-b427-4f8bdcfd807a"
      },
      "source": [
        "file_list = os.listdir(data_dir)\n",
        "\n",
        "file_list.sort()\n",
        "for f in file_list:\n",
        "  #we don't transfer Hitachi images to Hitachi style\n",
        "  #if the image was made with Cortex or Draminski it has to be cropped\n",
        "  if not f.startswith('hi_') and (not (f.startswith('co_') or f.startswith('dr_')) or (f.endswith('cropped.png'))):\n",
        "    print(f)\n",
        "    content_img, original_shape = content_image_loader(os.path.join(data_dir, f))\n",
        "    input_img = content_img.clone()\n",
        "    output = run_style_transfer(cnn, cnn_normalization_mean, cnn_normalization_std,\n",
        "                            content_img, style_img, input_img, num_steps=700, style_weight=500000)\n",
        "    save_img(output, original_shape, os.path.join(output_dir, f))"
      ],
      "execution_count": null,
      "outputs": [
        {
          "output_type": "stream",
          "name": "stdout",
          "text": [
            "co_10_NEVUS_cropped.png\n"
          ]
        },
        {
          "output_type": "stream",
          "name": "stderr",
          "text": [
            "/usr/local/lib/python3.7/dist-packages/ipykernel_launcher.py:9: UserWarning: To copy construct from a tensor, it is recommended to use sourceTensor.clone().detach() or sourceTensor.clone().detach().requires_grad_(True), rather than torch.tensor(sourceTensor).\n",
            "  if __name__ == '__main__':\n",
            "/usr/local/lib/python3.7/dist-packages/ipykernel_launcher.py:10: UserWarning: To copy construct from a tensor, it is recommended to use sourceTensor.clone().detach() or sourceTensor.clone().detach().requires_grad_(True), rather than torch.tensor(sourceTensor).\n",
            "  # Remove the CWD from sys.path while we load stuff.\n",
            "/usr/local/lib/python3.7/dist-packages/torch/nn/functional.py:718: UserWarning: Named tensors and all their associated APIs are an experimental feature and subject to change. Please do not use them for anything important until they are released as stable. (Triggered internally at  /pytorch/c10/core/TensorImpl.h:1156.)\n",
            "  return torch.max_pool2d(input, kernel_size, stride, padding, dilation, ceil_mode)\n"
          ]
        },
        {
          "output_type": "stream",
          "name": "stdout",
          "text": [
            "Style Loss : 0.383362 Content Loss: 3.603564\n",
            "\n",
            "co_11_NEVUS_cropped.png\n",
            "Style Loss : 0.388539 Content Loss: 3.490481\n",
            "\n",
            "co_1_NEVUS_cropped.png\n",
            "Style Loss : 0.331967 Content Loss: 4.419219\n",
            "\n",
            "co_2_NEVUS_cropped.png\n",
            "Style Loss : 0.348675 Content Loss: 3.609923\n",
            "\n",
            "co_3_NEVUS_cropped.png\n",
            "Style Loss : 0.358363 Content Loss: 3.595426\n",
            "\n",
            "co_4_NEVUS_cropped.png\n",
            "Style Loss : 0.389634 Content Loss: 3.620981\n",
            "\n",
            "co_5_NEVUS_cropped.png\n",
            "Style Loss : 0.388771 Content Loss: 3.780330\n",
            "\n",
            "co_6_NEVUS_cropped.png\n",
            "Style Loss : 0.386217 Content Loss: 3.671509\n",
            "\n",
            "co_7_NEVUS_cropped.png\n",
            "Style Loss : 0.368576 Content Loss: 4.076472\n",
            "\n",
            "co_8_NEVUS_cropped.png\n",
            "Style Loss : 0.354951 Content Loss: 3.797847\n",
            "\n",
            "co_9_NEVUS_cropped.png\n",
            "Style Loss : 0.356872 Content Loss: 3.653624\n",
            "\n",
            "dr_1_UNKNOWN_cropped.png\n",
            "Style Loss : 0.250430 Content Loss: 3.411652\n",
            "\n",
            "dr_2_UNKNOWN_cropped.png\n",
            "Style Loss : 0.260553 Content Loss: 3.092369\n",
            "\n",
            "dr_3_UNKNOWN_cropped.png\n",
            "Style Loss : 15.403051 Content Loss: 14.187193\n",
            "\n",
            "dr_4_UNKNOWN_cropped.png\n",
            "Style Loss : 0.241415 Content Loss: 3.173522\n",
            "\n",
            "dr_5_UNKNOWN_cropped.png\n",
            "Style Loss : 0.289609 Content Loss: 3.385856\n",
            "\n",
            "dr_6_UNKNOWN_cropped.png\n",
            "Style Loss : 0.236356 Content Loss: 3.149199\n",
            "\n",
            "dr_7_UNKNOWN_cropped.png\n",
            "Style Loss : 0.239451 Content Loss: 3.258759\n",
            "\n",
            "dr_8_UNKNOWN_cropped.png\n",
            "Style Loss : 0.222179 Content Loss: 3.252210\n",
            "\n",
            "dr_9_UNKNOWN_cropped.png\n",
            "Style Loss : 0.231295 Content Loss: 3.054545\n",
            "\n",
            "ha_13_BCC.png\n",
            "Style Loss : 0.298571 Content Loss: 4.232915\n",
            "\n",
            "ha_13_BCC_dark.png\n",
            "Style Loss : 0.419243 Content Loss: 8.106876\n",
            "\n",
            "ha_15_BCC.png\n",
            "Style Loss : 0.259985 Content Loss: 3.371332\n",
            "\n",
            "ha_15_BCC_dark.png\n",
            "Style Loss : 0.421839 Content Loss: 9.132948\n",
            "\n",
            "ha_18_BCC.png\n",
            "Style Loss : 0.327746 Content Loss: 3.698008\n",
            "\n",
            "ha_18_BCC_dark.png\n",
            "Style Loss : 0.476185 Content Loss: 9.135200\n",
            "\n",
            "ha_1_NEVUS.png\n",
            "Style Loss : 0.261806 Content Loss: 3.634849\n",
            "\n",
            "ha_1_NEVUS_dark.png\n",
            "Style Loss : 0.446239 Content Loss: 9.111486\n",
            "\n",
            "ha_23_MELA.png\n",
            "Style Loss : 0.341667 Content Loss: 3.608816\n",
            "\n",
            "ha_23_MELA_dark.png\n",
            "Style Loss : 0.429724 Content Loss: 8.704576\n",
            "\n",
            "ha_24_MELA.png\n",
            "Style Loss : 0.291919 Content Loss: 3.284625\n",
            "\n",
            "ha_24_MELA_dark.png\n",
            "Style Loss : 0.482453 Content Loss: 8.189089\n",
            "\n",
            "ha_26_MELA.png\n",
            "Style Loss : 0.335246 Content Loss: 3.532540\n",
            "\n",
            "ha_26_MELA_dark.png\n",
            "Style Loss : 0.428907 Content Loss: 8.817481\n",
            "\n",
            "ha_28_MELA.png\n",
            "Style Loss : 0.374407 Content Loss: 3.701906\n",
            "\n",
            "ha_28_MELA_dark.png\n",
            "Style Loss : 0.459785 Content Loss: 9.789845\n",
            "\n",
            "ha_3_NEVUS.png\n",
            "Style Loss : 0.275593 Content Loss: 3.264085\n",
            "\n",
            "ha_3_NEVUS_dark.png\n",
            "Style Loss : 0.466402 Content Loss: 8.971208\n",
            "\n",
            "ha_5_NEVUS.png\n",
            "Style Loss : 0.295992 Content Loss: 2.958603\n",
            "\n",
            "ha_5_NEVUS_dark.png\n",
            "Style Loss : 0.475527 Content Loss: 9.041668\n",
            "\n",
            "ha_6_NEVUS.png\n",
            "Style Loss : 0.252047 Content Loss: 2.816171\n",
            "\n",
            "ha_6_NEVUS_dark.png\n",
            "Style Loss : 0.486767 Content Loss: 9.080129\n",
            "\n",
            "ss_10_UNKNOWN.png\n",
            "Style Loss : 0.704790 Content Loss: 10.275551\n",
            "\n",
            "ss_11_UNKNOWN.png\n",
            "Style Loss : 1.171992 Content Loss: 12.085150\n",
            "\n",
            "ss_12_UNKNOWN.png\n",
            "Style Loss : 0.685852 Content Loss: 10.315794\n",
            "\n",
            "ss_1_UNKNOWN.png\n",
            "Style Loss : 0.370518 Content Loss: 6.592829\n",
            "\n",
            "ss_2_UNKNOWN.png\n",
            "Style Loss : 0.509222 Content Loss: 7.482900\n",
            "\n",
            "ss_3_UNKNOWN.png\n",
            "Style Loss : 0.363874 Content Loss: 8.556808\n",
            "\n",
            "ss_4_UNKNOWN.png\n",
            "Style Loss : 0.583977 Content Loss: 9.358910\n",
            "\n",
            "ss_5_UNKNOWN.png\n",
            "Style Loss : 0.596613 Content Loss: 9.230560\n",
            "\n",
            "ss_6_UNKNOWN.png\n",
            "Style Loss : 0.507804 Content Loss: 8.453744\n",
            "\n",
            "ss_7_UNKNOWN.png\n",
            "Style Loss : 0.878707 Content Loss: 10.284971\n",
            "\n",
            "ss_8_UNKNOWN.png\n",
            "Style Loss : 1.427379 Content Loss: 13.355185\n",
            "\n",
            "ss_9_UNKNOWN.png\n",
            "Style Loss : 0.744086 Content Loss: 9.902027\n",
            "\n"
          ]
        }
      ]
    },
    {
      "cell_type": "code",
      "metadata": {
        "id": "13tUDGiG47Wb"
      },
      "source": [
        ""
      ],
      "execution_count": null,
      "outputs": []
    }
  ]
}